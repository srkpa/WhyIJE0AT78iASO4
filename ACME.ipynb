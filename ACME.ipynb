{
 "cells": [
  {
   "cell_type": "code",
   "execution_count": null,
   "metadata": {},
   "outputs": [],
   "source": [
    "## Install these packages if needeed\n",
    "%pip install pandas\n",
    "%pip install ydata-profiling\n",
    "%pip install -U scikit-learn"
   ]
  },
  {
   "cell_type": "markdown",
   "metadata": {},
   "source": [
    "### IMPORTS\n",
    "---"
   ]
  },
  {
   "cell_type": "code",
   "execution_count": 1,
   "metadata": {},
   "outputs": [],
   "source": [
    "%load_ext autoreload\n",
    "%autoreload 2\n",
    "\n",
    "from pandas import read_csv, DataFrame\n",
    "from ydata_profiling import ProfileReport\n",
    "from sklearn.model_selection import train_test_split\n",
    "from src.utils import get_model, train_model, test_model, save_model\n",
    "\n",
    "import warnings \n",
    "warnings. filterwarnings('ignore')"
   ]
  },
  {
   "cell_type": "markdown",
   "metadata": {},
   "source": [
    "### DATA\n",
    "---"
   ]
  },
  {
   "cell_type": "code",
   "execution_count": 2,
   "metadata": {},
   "outputs": [
    {
     "data": {
      "text/html": [
       "<div>\n",
       "<style scoped>\n",
       "    .dataframe tbody tr th:only-of-type {\n",
       "        vertical-align: middle;\n",
       "    }\n",
       "\n",
       "    .dataframe tbody tr th {\n",
       "        vertical-align: top;\n",
       "    }\n",
       "\n",
       "    .dataframe thead th {\n",
       "        text-align: right;\n",
       "    }\n",
       "</style>\n",
       "<table border=\"1\" class=\"dataframe\">\n",
       "  <thead>\n",
       "    <tr style=\"text-align: right;\">\n",
       "      <th></th>\n",
       "      <th>Y</th>\n",
       "      <th>X1</th>\n",
       "      <th>X2</th>\n",
       "      <th>X3</th>\n",
       "      <th>X4</th>\n",
       "      <th>X5</th>\n",
       "      <th>X6</th>\n",
       "    </tr>\n",
       "  </thead>\n",
       "  <tbody>\n",
       "    <tr>\n",
       "      <th>0</th>\n",
       "      <td>0</td>\n",
       "      <td>3</td>\n",
       "      <td>3</td>\n",
       "      <td>3</td>\n",
       "      <td>4</td>\n",
       "      <td>2</td>\n",
       "      <td>4</td>\n",
       "    </tr>\n",
       "    <tr>\n",
       "      <th>1</th>\n",
       "      <td>0</td>\n",
       "      <td>3</td>\n",
       "      <td>2</td>\n",
       "      <td>3</td>\n",
       "      <td>5</td>\n",
       "      <td>4</td>\n",
       "      <td>3</td>\n",
       "    </tr>\n",
       "    <tr>\n",
       "      <th>2</th>\n",
       "      <td>1</td>\n",
       "      <td>5</td>\n",
       "      <td>3</td>\n",
       "      <td>3</td>\n",
       "      <td>3</td>\n",
       "      <td>3</td>\n",
       "      <td>5</td>\n",
       "    </tr>\n",
       "    <tr>\n",
       "      <th>3</th>\n",
       "      <td>0</td>\n",
       "      <td>5</td>\n",
       "      <td>4</td>\n",
       "      <td>3</td>\n",
       "      <td>3</td>\n",
       "      <td>3</td>\n",
       "      <td>5</td>\n",
       "    </tr>\n",
       "    <tr>\n",
       "      <th>4</th>\n",
       "      <td>0</td>\n",
       "      <td>5</td>\n",
       "      <td>4</td>\n",
       "      <td>3</td>\n",
       "      <td>3</td>\n",
       "      <td>3</td>\n",
       "      <td>5</td>\n",
       "    </tr>\n",
       "  </tbody>\n",
       "</table>\n",
       "</div>"
      ],
      "text/plain": [
       "   Y  X1  X2  X3  X4  X5  X6\n",
       "0  0   3   3   3   4   2   4\n",
       "1  0   3   2   3   5   4   3\n",
       "2  1   5   3   3   3   3   5\n",
       "3  0   5   4   3   3   3   5\n",
       "4  0   5   4   3   3   3   5"
      ]
     },
     "execution_count": 2,
     "metadata": {},
     "output_type": "execute_result"
    }
   ],
   "source": [
    "acme = read_csv(filepath_or_buffer='./ACME-HappinessSurvey2020.csv')\n",
    "acme.head()"
   ]
  },
  {
   "cell_type": "code",
   "execution_count": 3,
   "metadata": {},
   "outputs": [
    {
     "data": {
      "text/plain": [
       "Index(['Y', 'X1', 'X2', 'X3', 'X4', 'X5', 'X6'], dtype='object')"
      ]
     },
     "execution_count": 3,
     "metadata": {},
     "output_type": "execute_result"
    }
   ],
   "source": [
    "acme.columns"
   ]
  },
  {
   "cell_type": "code",
   "execution_count": 4,
   "metadata": {},
   "outputs": [
    {
     "data": {
      "text/plain": [
       "(126, 7)"
      ]
     },
     "execution_count": 4,
     "metadata": {},
     "output_type": "execute_result"
    }
   ],
   "source": [
    "acme.shape"
   ]
  },
  {
   "cell_type": "code",
   "execution_count": 5,
   "metadata": {},
   "outputs": [
    {
     "name": "stdout",
     "output_type": "stream",
     "text": [
      "<class 'pandas.core.frame.DataFrame'>\n",
      "RangeIndex: 126 entries, 0 to 125\n",
      "Data columns (total 7 columns):\n",
      " #   Column  Non-Null Count  Dtype\n",
      "---  ------  --------------  -----\n",
      " 0   Y       126 non-null    int64\n",
      " 1   X1      126 non-null    int64\n",
      " 2   X2      126 non-null    int64\n",
      " 3   X3      126 non-null    int64\n",
      " 4   X4      126 non-null    int64\n",
      " 5   X5      126 non-null    int64\n",
      " 6   X6      126 non-null    int64\n",
      "dtypes: int64(7)\n",
      "memory usage: 7.0 KB\n"
     ]
    }
   ],
   "source": [
    "acme.info()"
   ]
  },
  {
   "cell_type": "code",
   "execution_count": 6,
   "metadata": {},
   "outputs": [
    {
     "data": {
      "text/html": [
       "<div>\n",
       "<style scoped>\n",
       "    .dataframe tbody tr th:only-of-type {\n",
       "        vertical-align: middle;\n",
       "    }\n",
       "\n",
       "    .dataframe tbody tr th {\n",
       "        vertical-align: top;\n",
       "    }\n",
       "\n",
       "    .dataframe thead th {\n",
       "        text-align: right;\n",
       "    }\n",
       "</style>\n",
       "<table border=\"1\" class=\"dataframe\">\n",
       "  <thead>\n",
       "    <tr style=\"text-align: right;\">\n",
       "      <th></th>\n",
       "      <th>X1</th>\n",
       "      <th>X2</th>\n",
       "      <th>X3</th>\n",
       "      <th>X4</th>\n",
       "      <th>X5</th>\n",
       "      <th>X6</th>\n",
       "    </tr>\n",
       "  </thead>\n",
       "  <tbody>\n",
       "    <tr>\n",
       "      <th>count</th>\n",
       "      <td>126.000000</td>\n",
       "      <td>126.000000</td>\n",
       "      <td>126.000000</td>\n",
       "      <td>126.000000</td>\n",
       "      <td>126.000000</td>\n",
       "      <td>126.000000</td>\n",
       "    </tr>\n",
       "    <tr>\n",
       "      <th>mean</th>\n",
       "      <td>4.333333</td>\n",
       "      <td>2.531746</td>\n",
       "      <td>3.309524</td>\n",
       "      <td>3.746032</td>\n",
       "      <td>3.650794</td>\n",
       "      <td>4.253968</td>\n",
       "    </tr>\n",
       "    <tr>\n",
       "      <th>std</th>\n",
       "      <td>0.800000</td>\n",
       "      <td>1.114892</td>\n",
       "      <td>1.023440</td>\n",
       "      <td>0.875776</td>\n",
       "      <td>1.147641</td>\n",
       "      <td>0.809311</td>\n",
       "    </tr>\n",
       "    <tr>\n",
       "      <th>min</th>\n",
       "      <td>1.000000</td>\n",
       "      <td>1.000000</td>\n",
       "      <td>1.000000</td>\n",
       "      <td>1.000000</td>\n",
       "      <td>1.000000</td>\n",
       "      <td>1.000000</td>\n",
       "    </tr>\n",
       "    <tr>\n",
       "      <th>25%</th>\n",
       "      <td>4.000000</td>\n",
       "      <td>2.000000</td>\n",
       "      <td>3.000000</td>\n",
       "      <td>3.000000</td>\n",
       "      <td>3.000000</td>\n",
       "      <td>4.000000</td>\n",
       "    </tr>\n",
       "    <tr>\n",
       "      <th>50%</th>\n",
       "      <td>5.000000</td>\n",
       "      <td>3.000000</td>\n",
       "      <td>3.000000</td>\n",
       "      <td>4.000000</td>\n",
       "      <td>4.000000</td>\n",
       "      <td>4.000000</td>\n",
       "    </tr>\n",
       "    <tr>\n",
       "      <th>75%</th>\n",
       "      <td>5.000000</td>\n",
       "      <td>3.000000</td>\n",
       "      <td>4.000000</td>\n",
       "      <td>4.000000</td>\n",
       "      <td>4.000000</td>\n",
       "      <td>5.000000</td>\n",
       "    </tr>\n",
       "    <tr>\n",
       "      <th>max</th>\n",
       "      <td>5.000000</td>\n",
       "      <td>5.000000</td>\n",
       "      <td>5.000000</td>\n",
       "      <td>5.000000</td>\n",
       "      <td>5.000000</td>\n",
       "      <td>5.000000</td>\n",
       "    </tr>\n",
       "  </tbody>\n",
       "</table>\n",
       "</div>"
      ],
      "text/plain": [
       "               X1          X2          X3          X4          X5          X6\n",
       "count  126.000000  126.000000  126.000000  126.000000  126.000000  126.000000\n",
       "mean     4.333333    2.531746    3.309524    3.746032    3.650794    4.253968\n",
       "std      0.800000    1.114892    1.023440    0.875776    1.147641    0.809311\n",
       "min      1.000000    1.000000    1.000000    1.000000    1.000000    1.000000\n",
       "25%      4.000000    2.000000    3.000000    3.000000    3.000000    4.000000\n",
       "50%      5.000000    3.000000    3.000000    4.000000    4.000000    4.000000\n",
       "75%      5.000000    3.000000    4.000000    4.000000    4.000000    5.000000\n",
       "max      5.000000    5.000000    5.000000    5.000000    5.000000    5.000000"
      ]
     },
     "execution_count": 6,
     "metadata": {},
     "output_type": "execute_result"
    }
   ],
   "source": [
    "acme[[f'X{index}' for index in range(1, 7)]].describe(include='all')"
   ]
  },
  {
   "cell_type": "code",
   "execution_count": 7,
   "metadata": {},
   "outputs": [
    {
     "data": {
      "text/html": [
       "<div>\n",
       "<style scoped>\n",
       "    .dataframe tbody tr th:only-of-type {\n",
       "        vertical-align: middle;\n",
       "    }\n",
       "\n",
       "    .dataframe tbody tr th {\n",
       "        vertical-align: top;\n",
       "    }\n",
       "\n",
       "    .dataframe thead th {\n",
       "        text-align: right;\n",
       "    }\n",
       "</style>\n",
       "<table border=\"1\" class=\"dataframe\">\n",
       "  <thead>\n",
       "    <tr style=\"text-align: right;\">\n",
       "      <th></th>\n",
       "      <th>0</th>\n",
       "    </tr>\n",
       "    <tr>\n",
       "      <th>Y</th>\n",
       "      <th></th>\n",
       "    </tr>\n",
       "  </thead>\n",
       "  <tbody>\n",
       "    <tr>\n",
       "      <th>1</th>\n",
       "      <td>0.547619</td>\n",
       "    </tr>\n",
       "    <tr>\n",
       "      <th>0</th>\n",
       "      <td>0.452381</td>\n",
       "    </tr>\n",
       "  </tbody>\n",
       "</table>\n",
       "</div>"
      ],
      "text/plain": [
       "          0\n",
       "Y          \n",
       "1  0.547619\n",
       "0  0.452381"
      ]
     },
     "execution_count": 7,
     "metadata": {},
     "output_type": "execute_result"
    }
   ],
   "source": [
    "acme.value_counts(subset=['Y'], normalize=True, dropna=True).to_frame()"
   ]
  },
  {
   "cell_type": "markdown",
   "metadata": {},
   "source": [
    "### EDA\n",
    "----"
   ]
  },
  {
   "cell_type": "code",
   "execution_count": 8,
   "metadata": {},
   "outputs": [
    {
     "data": {
      "application/vnd.jupyter.widget-view+json": {
       "model_id": "e6037c9ee05b47ca99cfa82b16e6181a",
       "version_major": 2,
       "version_minor": 0
      },
      "text/plain": [
       "Summarize dataset:   0%|          | 0/5 [00:00<?, ?it/s]"
      ]
     },
     "metadata": {},
     "output_type": "display_data"
    },
    {
     "data": {
      "application/vnd.jupyter.widget-view+json": {
       "model_id": "8c0721f967f84ff0baadf3b68adef91c",
       "version_major": 2,
       "version_minor": 0
      },
      "text/plain": [
       "Generate report structure:   0%|          | 0/1 [00:00<?, ?it/s]"
      ]
     },
     "metadata": {},
     "output_type": "display_data"
    },
    {
     "data": {
      "application/vnd.jupyter.widget-view+json": {
       "model_id": "03b0e4632706453f94daab88e88d9e52",
       "version_major": 2,
       "version_minor": 0
      },
      "text/plain": [
       "Render widgets:   0%|          | 0/1 [00:00<?, ?it/s]"
      ]
     },
     "metadata": {},
     "output_type": "display_data"
    },
    {
     "data": {
      "application/vnd.jupyter.widget-view+json": {
       "model_id": "0fd7a05cb166456982417a6d239f7d85",
       "version_major": 2,
       "version_minor": 0
      },
      "text/plain": [
       "VBox(children=(Tab(children=(Tab(children=(GridBox(children=(VBox(children=(GridspecLayout(children=(HTML(valu…"
      ]
     },
     "metadata": {},
     "output_type": "display_data"
    }
   ],
   "source": [
    "profile = ProfileReport(df=acme)\n",
    "profile.to_widgets()"
   ]
  },
  {
   "cell_type": "code",
   "execution_count": null,
   "metadata": {},
   "outputs": [
    {
     "data": {
      "application/vnd.jupyter.widget-view+json": {
       "model_id": "c742d42b84e54d49aec9ed9381617b9a",
       "version_major": 2,
       "version_minor": 0
      },
      "text/plain": [
       "Export report to file:   0%|          | 0/1 [00:00<?, ?it/s]"
      ]
     },
     "metadata": {},
     "output_type": "display_data"
    }
   ],
   "source": [
    "profile.to_file(output_file='acme_eda.html', silent=False)"
   ]
  },
  {
   "cell_type": "markdown",
   "metadata": {},
   "source": [
    "### MODELLING\n",
    "---"
   ]
  },
  {
   "cell_type": "markdown",
   "metadata": {},
   "source": [
    "#### Model Selection"
   ]
  },
  {
   "cell_type": "code",
   "execution_count": null,
   "metadata": {},
   "outputs": [
    {
     "name": "stdout",
     "output_type": "stream",
     "text": [
      "## TRAIN TEST SPLIT: \n",
      "\t TRAIN : (100, 6)\n",
      "\t TEST : (26, 6)\n"
     ]
    }
   ],
   "source": [
    "# PARAMETERS \n",
    "## [PREDICT]\n",
    "TYPE_TASK = 'classifier'\n",
    "TARGET = 'Y'\n",
    "\n",
    "##[SPLIT]\n",
    "TEST_SIZE = 0.2\n",
    "\n",
    "## [REPRODUCIBILITY]\n",
    "SEED = 42\n",
    "\n",
    "X, y = acme.drop(TARGET, axis=1), acme[TARGET]\n",
    "X_train, X_test, y_train, y_test = train_test_split(X, y, test_size=TEST_SIZE, random_state=SEED, shuffle=True, stratify=y)\n",
    " \n",
    "print(f\"## TRAIN TEST SPLIT: \\n\\t TRAIN : {X_train.shape}\\n\\t TEST : {X_test.shape}\")"
   ]
  },
  {
   "cell_type": "code",
   "execution_count": null,
   "metadata": {},
   "outputs": [
    {
     "data": {
      "text/html": [
       "<div>\n",
       "<style scoped>\n",
       "    .dataframe tbody tr th:only-of-type {\n",
       "        vertical-align: middle;\n",
       "    }\n",
       "\n",
       "    .dataframe tbody tr th {\n",
       "        vertical-align: top;\n",
       "    }\n",
       "\n",
       "    .dataframe thead th {\n",
       "        text-align: right;\n",
       "    }\n",
       "</style>\n",
       "<table border=\"1\" class=\"dataframe\">\n",
       "  <thead>\n",
       "    <tr style=\"text-align: right;\">\n",
       "      <th></th>\n",
       "      <th>MODEL</th>\n",
       "      <th>TRAIN ACC</th>\n",
       "      <th>TEST ACC</th>\n",
       "      <th>DURATION (SECONDS)</th>\n",
       "    </tr>\n",
       "  </thead>\n",
       "  <tbody>\n",
       "    <tr>\n",
       "      <th>3</th>\n",
       "      <td>DecisionTreeClassifier</td>\n",
       "      <td>0.96</td>\n",
       "      <td>0.692308</td>\n",
       "      <td>0.000000</td>\n",
       "    </tr>\n",
       "    <tr>\n",
       "      <th>1</th>\n",
       "      <td>CategoricalNB</td>\n",
       "      <td>0.60</td>\n",
       "      <td>0.692308</td>\n",
       "      <td>0.014554</td>\n",
       "    </tr>\n",
       "    <tr>\n",
       "      <th>14</th>\n",
       "      <td>LinearSVC</td>\n",
       "      <td>0.59</td>\n",
       "      <td>0.653846</td>\n",
       "      <td>0.019141</td>\n",
       "    </tr>\n",
       "    <tr>\n",
       "      <th>19</th>\n",
       "      <td>NearestCentroid</td>\n",
       "      <td>0.60</td>\n",
       "      <td>0.653846</td>\n",
       "      <td>0.011743</td>\n",
       "    </tr>\n",
       "    <tr>\n",
       "      <th>10</th>\n",
       "      <td>KNeighborsClassifier</td>\n",
       "      <td>0.67</td>\n",
       "      <td>0.615385</td>\n",
       "      <td>0.015287</td>\n",
       "    </tr>\n",
       "    <tr>\n",
       "      <th>26</th>\n",
       "      <td>RidgeClassifierCV</td>\n",
       "      <td>0.58</td>\n",
       "      <td>0.615385</td>\n",
       "      <td>0.008418</td>\n",
       "    </tr>\n",
       "    <tr>\n",
       "      <th>25</th>\n",
       "      <td>RidgeClassifier</td>\n",
       "      <td>0.58</td>\n",
       "      <td>0.615385</td>\n",
       "      <td>0.015331</td>\n",
       "    </tr>\n",
       "    <tr>\n",
       "      <th>24</th>\n",
       "      <td>RandomForestClassifier</td>\n",
       "      <td>0.96</td>\n",
       "      <td>0.615385</td>\n",
       "      <td>0.544533</td>\n",
       "    </tr>\n",
       "    <tr>\n",
       "      <th>15</th>\n",
       "      <td>LogisticRegression</td>\n",
       "      <td>0.57</td>\n",
       "      <td>0.615385</td>\n",
       "      <td>0.024405</td>\n",
       "    </tr>\n",
       "    <tr>\n",
       "      <th>13</th>\n",
       "      <td>LinearDiscriminantAnalysis</td>\n",
       "      <td>0.58</td>\n",
       "      <td>0.615385</td>\n",
       "      <td>0.014361</td>\n",
       "    </tr>\n",
       "    <tr>\n",
       "      <th>28</th>\n",
       "      <td>SVC</td>\n",
       "      <td>0.75</td>\n",
       "      <td>0.615385</td>\n",
       "      <td>0.009068</td>\n",
       "    </tr>\n",
       "    <tr>\n",
       "      <th>9</th>\n",
       "      <td>HistGradientBoostingClassifier</td>\n",
       "      <td>0.71</td>\n",
       "      <td>0.615385</td>\n",
       "      <td>0.173046</td>\n",
       "    </tr>\n",
       "    <tr>\n",
       "      <th>8</th>\n",
       "      <td>GaussianProcessClassifier</td>\n",
       "      <td>0.88</td>\n",
       "      <td>0.615385</td>\n",
       "      <td>0.024819</td>\n",
       "    </tr>\n",
       "    <tr>\n",
       "      <th>7</th>\n",
       "      <td>GaussianNB</td>\n",
       "      <td>0.56</td>\n",
       "      <td>0.615385</td>\n",
       "      <td>0.010116</td>\n",
       "    </tr>\n",
       "    <tr>\n",
       "      <th>11</th>\n",
       "      <td>LabelPropagation</td>\n",
       "      <td>0.96</td>\n",
       "      <td>0.576923</td>\n",
       "      <td>0.010022</td>\n",
       "    </tr>\n",
       "    <tr>\n",
       "      <th>18</th>\n",
       "      <td>MultinomialNB</td>\n",
       "      <td>0.59</td>\n",
       "      <td>0.576923</td>\n",
       "      <td>0.013798</td>\n",
       "    </tr>\n",
       "    <tr>\n",
       "      <th>6</th>\n",
       "      <td>ExtraTreesClassifier</td>\n",
       "      <td>0.96</td>\n",
       "      <td>0.576923</td>\n",
       "      <td>0.248943</td>\n",
       "    </tr>\n",
       "    <tr>\n",
       "      <th>12</th>\n",
       "      <td>LabelSpreading</td>\n",
       "      <td>0.96</td>\n",
       "      <td>0.576923</td>\n",
       "      <td>0.017608</td>\n",
       "    </tr>\n",
       "    <tr>\n",
       "      <th>22</th>\n",
       "      <td>Perceptron</td>\n",
       "      <td>0.59</td>\n",
       "      <td>0.538462</td>\n",
       "      <td>0.008725</td>\n",
       "    </tr>\n",
       "    <tr>\n",
       "      <th>2</th>\n",
       "      <td>ComplementNB</td>\n",
       "      <td>0.55</td>\n",
       "      <td>0.538462</td>\n",
       "      <td>0.000974</td>\n",
       "    </tr>\n",
       "    <tr>\n",
       "      <th>4</th>\n",
       "      <td>DummyClassifier</td>\n",
       "      <td>0.55</td>\n",
       "      <td>0.538462</td>\n",
       "      <td>0.000000</td>\n",
       "    </tr>\n",
       "    <tr>\n",
       "      <th>20</th>\n",
       "      <td>NuSVC</td>\n",
       "      <td>0.92</td>\n",
       "      <td>0.538462</td>\n",
       "      <td>0.010897</td>\n",
       "    </tr>\n",
       "    <tr>\n",
       "      <th>21</th>\n",
       "      <td>PassiveAggressiveClassifier</td>\n",
       "      <td>0.56</td>\n",
       "      <td>0.538462</td>\n",
       "      <td>0.013251</td>\n",
       "    </tr>\n",
       "    <tr>\n",
       "      <th>17</th>\n",
       "      <td>MLPClassifier</td>\n",
       "      <td>0.58</td>\n",
       "      <td>0.538462</td>\n",
       "      <td>0.040109</td>\n",
       "    </tr>\n",
       "    <tr>\n",
       "      <th>16</th>\n",
       "      <td>LogisticRegressionCV</td>\n",
       "      <td>0.55</td>\n",
       "      <td>0.538462</td>\n",
       "      <td>0.416638</td>\n",
       "    </tr>\n",
       "    <tr>\n",
       "      <th>0</th>\n",
       "      <td>BernoulliNB</td>\n",
       "      <td>0.55</td>\n",
       "      <td>0.538462</td>\n",
       "      <td>0.013807</td>\n",
       "    </tr>\n",
       "    <tr>\n",
       "      <th>23</th>\n",
       "      <td>QuadraticDiscriminantAnalysis</td>\n",
       "      <td>0.71</td>\n",
       "      <td>0.500000</td>\n",
       "      <td>0.004610</td>\n",
       "    </tr>\n",
       "    <tr>\n",
       "      <th>27</th>\n",
       "      <td>SGDClassifier</td>\n",
       "      <td>0.45</td>\n",
       "      <td>0.461538</td>\n",
       "      <td>0.017362</td>\n",
       "    </tr>\n",
       "    <tr>\n",
       "      <th>5</th>\n",
       "      <td>ExtraTreeClassifier</td>\n",
       "      <td>0.96</td>\n",
       "      <td>0.423077</td>\n",
       "      <td>0.001933</td>\n",
       "    </tr>\n",
       "  </tbody>\n",
       "</table>\n",
       "</div>"
      ],
      "text/plain": [
       "                             MODEL  TRAIN ACC  TEST ACC  DURATION (SECONDS)\n",
       "3           DecisionTreeClassifier       0.96  0.692308            0.000000\n",
       "1                    CategoricalNB       0.60  0.692308            0.014554\n",
       "14                       LinearSVC       0.59  0.653846            0.019141\n",
       "19                 NearestCentroid       0.60  0.653846            0.011743\n",
       "10            KNeighborsClassifier       0.67  0.615385            0.015287\n",
       "26               RidgeClassifierCV       0.58  0.615385            0.008418\n",
       "25                 RidgeClassifier       0.58  0.615385            0.015331\n",
       "24          RandomForestClassifier       0.96  0.615385            0.544533\n",
       "15              LogisticRegression       0.57  0.615385            0.024405\n",
       "13      LinearDiscriminantAnalysis       0.58  0.615385            0.014361\n",
       "28                             SVC       0.75  0.615385            0.009068\n",
       "9   HistGradientBoostingClassifier       0.71  0.615385            0.173046\n",
       "8        GaussianProcessClassifier       0.88  0.615385            0.024819\n",
       "7                       GaussianNB       0.56  0.615385            0.010116\n",
       "11                LabelPropagation       0.96  0.576923            0.010022\n",
       "18                   MultinomialNB       0.59  0.576923            0.013798\n",
       "6             ExtraTreesClassifier       0.96  0.576923            0.248943\n",
       "12                  LabelSpreading       0.96  0.576923            0.017608\n",
       "22                      Perceptron       0.59  0.538462            0.008725\n",
       "2                     ComplementNB       0.55  0.538462            0.000974\n",
       "4                  DummyClassifier       0.55  0.538462            0.000000\n",
       "20                           NuSVC       0.92  0.538462            0.010897\n",
       "21     PassiveAggressiveClassifier       0.56  0.538462            0.013251\n",
       "17                   MLPClassifier       0.58  0.538462            0.040109\n",
       "16            LogisticRegressionCV       0.55  0.538462            0.416638\n",
       "0                      BernoulliNB       0.55  0.538462            0.013807\n",
       "23   QuadraticDiscriminantAnalysis       0.71  0.500000            0.004610\n",
       "27                   SGDClassifier       0.45  0.461538            0.017362\n",
       "5              ExtraTreeClassifier       0.96  0.423077            0.001933"
      ]
     },
     "execution_count": 149,
     "metadata": {},
     "output_type": "execute_result"
    }
   ],
   "source": [
    "def run_experiment(partitions : tuple, task : str) -> tuple:\n",
    "    X_train, X_test, y_train, y_test = partitions\n",
    "    \n",
    "    models = get_model(task=task)\n",
    "\n",
    "    experiment = []\n",
    "    fitted_models = {}\n",
    "    for model in models:\n",
    "        try:\n",
    "            (train_scores, _), fitted_model, duration = train_model(\n",
    "                model = model,\n",
    "                X = X_train,\n",
    "                y = y_train,\n",
    "                scoring=['accuracy']\n",
    "\n",
    "            )\n",
    "\n",
    "            (test_scores, _) = test_model(\n",
    "                model = fitted_model,\n",
    "                X = X_test,\n",
    "                y = y_test,\n",
    "                scoring=['accuracy']\n",
    "            )\n",
    "    \n",
    "            experiment.append([model.__class__.__name__, train_scores['accuracy'], test_scores['accuracy'], duration])\n",
    "            fitted_models[model.__class__.__name__] = fitted_model\n",
    "        except Exception:\n",
    "            ...\n",
    "        \n",
    "    result = DataFrame(data=experiment, columns=['MODEL', 'TRAIN ACC', 'TEST ACC', 'DURATION (SECONDS)'])\n",
    "    result.sort_values(by='TEST ACC', ascending=False, inplace=True)\n",
    "    \n",
    "    return result,fitted_models\n",
    "\n",
    "##RUN\n",
    "result, _ = run_experiment(\n",
    "    partitions=(X_train, X_test, y_train, y_test),\n",
    "    task=TYPE_TASK,\n",
    ")\n",
    "result"
   ]
  },
  {
   "cell_type": "markdown",
   "metadata": {},
   "source": [
    "#### Feature selection - SequentialFeatureSelector + CATEGORICALNB"
   ]
  },
  {
   "cell_type": "code",
   "execution_count": null,
   "metadata": {},
   "outputs": [
    {
     "name": "stdout",
     "output_type": "stream",
     "text": [
      "MOST IMPORTANT FEATURES: ['X1' 'X2' 'X5']\n"
     ]
    }
   ],
   "source": [
    "from sklearn.feature_selection import SequentialFeatureSelector\n",
    "from sklearn.naive_bayes import CategoricalNB\n",
    "from sklearn.base import BaseEstimator\n",
    "\n",
    "def select_features(X : DataFrame, y: DataFrame, estimator: BaseEstimator) -> SequentialFeatureSelector:\n",
    "    return SequentialFeatureSelector(estimator=estimator, n_features_to_select=\"auto\",scoring='accuracy', direction=\"backward\").fit(X, y)\n",
    "\n",
    "\n",
    "fs = select_features(X=X_train, y=y_train, estimator=CategoricalNB())\n",
    "\n",
    "print(f\"MOST IMPORTANT FEATURES: {fs.get_feature_names_out()}\")"
   ]
  },
  {
   "cell_type": "code",
   "execution_count": null,
   "metadata": {},
   "outputs": [
    {
     "name": "stdout",
     "output_type": "stream",
     "text": [
      "(100, 3) (26, 3)\n"
     ]
    }
   ],
   "source": [
    "X_train, X_test = list(map(fs.transform, [X_train, X_test]))\n",
    "print(X_train.shape, X_test.shape)"
   ]
  },
  {
   "cell_type": "code",
   "execution_count": null,
   "metadata": {},
   "outputs": [
    {
     "data": {
      "text/html": [
       "<div>\n",
       "<style scoped>\n",
       "    .dataframe tbody tr th:only-of-type {\n",
       "        vertical-align: middle;\n",
       "    }\n",
       "\n",
       "    .dataframe tbody tr th {\n",
       "        vertical-align: top;\n",
       "    }\n",
       "\n",
       "    .dataframe thead th {\n",
       "        text-align: right;\n",
       "    }\n",
       "</style>\n",
       "<table border=\"1\" class=\"dataframe\">\n",
       "  <thead>\n",
       "    <tr style=\"text-align: right;\">\n",
       "      <th></th>\n",
       "      <th>MODEL</th>\n",
       "      <th>TRAIN ACC</th>\n",
       "      <th>TEST ACC</th>\n",
       "      <th>DURATION (SECONDS)</th>\n",
       "    </tr>\n",
       "  </thead>\n",
       "  <tbody>\n",
       "    <tr>\n",
       "      <th>25</th>\n",
       "      <td>RandomForestClassifier</td>\n",
       "      <td>0.82</td>\n",
       "      <td>0.846154</td>\n",
       "      <td>0.717154</td>\n",
       "    </tr>\n",
       "    <tr>\n",
       "      <th>3</th>\n",
       "      <td>DecisionTreeClassifier</td>\n",
       "      <td>0.82</td>\n",
       "      <td>0.846154</td>\n",
       "      <td>0.008118</td>\n",
       "    </tr>\n",
       "    <tr>\n",
       "      <th>6</th>\n",
       "      <td>ExtraTreesClassifier</td>\n",
       "      <td>0.82</td>\n",
       "      <td>0.846154</td>\n",
       "      <td>0.241091</td>\n",
       "    </tr>\n",
       "    <tr>\n",
       "      <th>11</th>\n",
       "      <td>LabelPropagation</td>\n",
       "      <td>0.82</td>\n",
       "      <td>0.846154</td>\n",
       "      <td>0.017164</td>\n",
       "    </tr>\n",
       "    <tr>\n",
       "      <th>12</th>\n",
       "      <td>LabelSpreading</td>\n",
       "      <td>0.82</td>\n",
       "      <td>0.846154</td>\n",
       "      <td>0.000000</td>\n",
       "    </tr>\n",
       "    <tr>\n",
       "      <th>8</th>\n",
       "      <td>GaussianProcessClassifier</td>\n",
       "      <td>0.75</td>\n",
       "      <td>0.807692</td>\n",
       "      <td>0.012521</td>\n",
       "    </tr>\n",
       "    <tr>\n",
       "      <th>24</th>\n",
       "      <td>RadiusNeighborsClassifier</td>\n",
       "      <td>0.70</td>\n",
       "      <td>0.769231</td>\n",
       "      <td>0.014117</td>\n",
       "    </tr>\n",
       "    <tr>\n",
       "      <th>5</th>\n",
       "      <td>ExtraTreeClassifier</td>\n",
       "      <td>0.82</td>\n",
       "      <td>0.769231</td>\n",
       "      <td>0.008349</td>\n",
       "    </tr>\n",
       "    <tr>\n",
       "      <th>20</th>\n",
       "      <td>NuSVC</td>\n",
       "      <td>0.79</td>\n",
       "      <td>0.769231</td>\n",
       "      <td>0.002637</td>\n",
       "    </tr>\n",
       "    <tr>\n",
       "      <th>10</th>\n",
       "      <td>KNeighborsClassifier</td>\n",
       "      <td>0.71</td>\n",
       "      <td>0.769231</td>\n",
       "      <td>0.012141</td>\n",
       "    </tr>\n",
       "    <tr>\n",
       "      <th>9</th>\n",
       "      <td>HistGradientBoostingClassifier</td>\n",
       "      <td>0.66</td>\n",
       "      <td>0.730769</td>\n",
       "      <td>0.142066</td>\n",
       "    </tr>\n",
       "    <tr>\n",
       "      <th>17</th>\n",
       "      <td>MLPClassifier</td>\n",
       "      <td>0.63</td>\n",
       "      <td>0.653846</td>\n",
       "      <td>0.278013</td>\n",
       "    </tr>\n",
       "    <tr>\n",
       "      <th>1</th>\n",
       "      <td>CategoricalNB</td>\n",
       "      <td>0.61</td>\n",
       "      <td>0.653846</td>\n",
       "      <td>0.012150</td>\n",
       "    </tr>\n",
       "    <tr>\n",
       "      <th>29</th>\n",
       "      <td>SVC</td>\n",
       "      <td>0.65</td>\n",
       "      <td>0.653846</td>\n",
       "      <td>0.014686</td>\n",
       "    </tr>\n",
       "    <tr>\n",
       "      <th>7</th>\n",
       "      <td>GaussianNB</td>\n",
       "      <td>0.61</td>\n",
       "      <td>0.653846</td>\n",
       "      <td>0.002931</td>\n",
       "    </tr>\n",
       "    <tr>\n",
       "      <th>26</th>\n",
       "      <td>RidgeClassifier</td>\n",
       "      <td>0.58</td>\n",
       "      <td>0.615385</td>\n",
       "      <td>0.016709</td>\n",
       "    </tr>\n",
       "    <tr>\n",
       "      <th>27</th>\n",
       "      <td>RidgeClassifierCV</td>\n",
       "      <td>0.58</td>\n",
       "      <td>0.615385</td>\n",
       "      <td>0.015434</td>\n",
       "    </tr>\n",
       "    <tr>\n",
       "      <th>28</th>\n",
       "      <td>SGDClassifier</td>\n",
       "      <td>0.63</td>\n",
       "      <td>0.615385</td>\n",
       "      <td>0.000000</td>\n",
       "    </tr>\n",
       "    <tr>\n",
       "      <th>23</th>\n",
       "      <td>QuadraticDiscriminantAnalysis</td>\n",
       "      <td>0.58</td>\n",
       "      <td>0.615385</td>\n",
       "      <td>0.004692</td>\n",
       "    </tr>\n",
       "    <tr>\n",
       "      <th>15</th>\n",
       "      <td>LogisticRegression</td>\n",
       "      <td>0.58</td>\n",
       "      <td>0.615385</td>\n",
       "      <td>0.005725</td>\n",
       "    </tr>\n",
       "    <tr>\n",
       "      <th>19</th>\n",
       "      <td>NearestCentroid</td>\n",
       "      <td>0.60</td>\n",
       "      <td>0.615385</td>\n",
       "      <td>0.000000</td>\n",
       "    </tr>\n",
       "    <tr>\n",
       "      <th>16</th>\n",
       "      <td>LogisticRegressionCV</td>\n",
       "      <td>0.58</td>\n",
       "      <td>0.615385</td>\n",
       "      <td>0.316736</td>\n",
       "    </tr>\n",
       "    <tr>\n",
       "      <th>14</th>\n",
       "      <td>LinearSVC</td>\n",
       "      <td>0.58</td>\n",
       "      <td>0.615385</td>\n",
       "      <td>0.014696</td>\n",
       "    </tr>\n",
       "    <tr>\n",
       "      <th>13</th>\n",
       "      <td>LinearDiscriminantAnalysis</td>\n",
       "      <td>0.58</td>\n",
       "      <td>0.615385</td>\n",
       "      <td>0.014755</td>\n",
       "    </tr>\n",
       "    <tr>\n",
       "      <th>22</th>\n",
       "      <td>Perceptron</td>\n",
       "      <td>0.58</td>\n",
       "      <td>0.538462</td>\n",
       "      <td>0.008331</td>\n",
       "    </tr>\n",
       "    <tr>\n",
       "      <th>18</th>\n",
       "      <td>MultinomialNB</td>\n",
       "      <td>0.58</td>\n",
       "      <td>0.538462</td>\n",
       "      <td>0.005011</td>\n",
       "    </tr>\n",
       "    <tr>\n",
       "      <th>4</th>\n",
       "      <td>DummyClassifier</td>\n",
       "      <td>0.55</td>\n",
       "      <td>0.538462</td>\n",
       "      <td>0.000000</td>\n",
       "    </tr>\n",
       "    <tr>\n",
       "      <th>0</th>\n",
       "      <td>BernoulliNB</td>\n",
       "      <td>0.55</td>\n",
       "      <td>0.538462</td>\n",
       "      <td>0.000000</td>\n",
       "    </tr>\n",
       "    <tr>\n",
       "      <th>2</th>\n",
       "      <td>ComplementNB</td>\n",
       "      <td>0.50</td>\n",
       "      <td>0.500000</td>\n",
       "      <td>0.000000</td>\n",
       "    </tr>\n",
       "    <tr>\n",
       "      <th>21</th>\n",
       "      <td>PassiveAggressiveClassifier</td>\n",
       "      <td>0.45</td>\n",
       "      <td>0.461538</td>\n",
       "      <td>0.016302</td>\n",
       "    </tr>\n",
       "  </tbody>\n",
       "</table>\n",
       "</div>"
      ],
      "text/plain": [
       "                             MODEL  TRAIN ACC  TEST ACC  DURATION (SECONDS)\n",
       "25          RandomForestClassifier       0.82  0.846154            0.717154\n",
       "3           DecisionTreeClassifier       0.82  0.846154            0.008118\n",
       "6             ExtraTreesClassifier       0.82  0.846154            0.241091\n",
       "11                LabelPropagation       0.82  0.846154            0.017164\n",
       "12                  LabelSpreading       0.82  0.846154            0.000000\n",
       "8        GaussianProcessClassifier       0.75  0.807692            0.012521\n",
       "24       RadiusNeighborsClassifier       0.70  0.769231            0.014117\n",
       "5              ExtraTreeClassifier       0.82  0.769231            0.008349\n",
       "20                           NuSVC       0.79  0.769231            0.002637\n",
       "10            KNeighborsClassifier       0.71  0.769231            0.012141\n",
       "9   HistGradientBoostingClassifier       0.66  0.730769            0.142066\n",
       "17                   MLPClassifier       0.63  0.653846            0.278013\n",
       "1                    CategoricalNB       0.61  0.653846            0.012150\n",
       "29                             SVC       0.65  0.653846            0.014686\n",
       "7                       GaussianNB       0.61  0.653846            0.002931\n",
       "26                 RidgeClassifier       0.58  0.615385            0.016709\n",
       "27               RidgeClassifierCV       0.58  0.615385            0.015434\n",
       "28                   SGDClassifier       0.63  0.615385            0.000000\n",
       "23   QuadraticDiscriminantAnalysis       0.58  0.615385            0.004692\n",
       "15              LogisticRegression       0.58  0.615385            0.005725\n",
       "19                 NearestCentroid       0.60  0.615385            0.000000\n",
       "16            LogisticRegressionCV       0.58  0.615385            0.316736\n",
       "14                       LinearSVC       0.58  0.615385            0.014696\n",
       "13      LinearDiscriminantAnalysis       0.58  0.615385            0.014755\n",
       "22                      Perceptron       0.58  0.538462            0.008331\n",
       "18                   MultinomialNB       0.58  0.538462            0.005011\n",
       "4                  DummyClassifier       0.55  0.538462            0.000000\n",
       "0                      BernoulliNB       0.55  0.538462            0.000000\n",
       "2                     ComplementNB       0.50  0.500000            0.000000\n",
       "21     PassiveAggressiveClassifier       0.45  0.461538            0.016302"
      ]
     },
     "execution_count": 152,
     "metadata": {},
     "output_type": "execute_result"
    }
   ],
   "source": [
    "results, fitted_models = run_experiment(partitions=[X_train,X_test, y_train, y_test], task=TYPE_TASK)\n",
    "results"
   ]
  },
  {
   "cell_type": "markdown",
   "metadata": {},
   "source": [
    "#### Feature importance -- DECISION TREE CLASSIFIER"
   ]
  },
  {
   "cell_type": "code",
   "execution_count": null,
   "metadata": {},
   "outputs": [
    {
     "name": "stdout",
     "output_type": "stream",
     "text": [
      "X5      0.250 +/- 0.043\n",
      "X1      0.201 +/- 0.035\n",
      "X2      0.193 +/- 0.034\n"
     ]
    }
   ],
   "source": [
    "from sklearn.inspection import permutation_importance\n",
    "\n",
    "BEST_FITTED_MODEL = fitted_models['DecisionTreeClassifier']\n",
    "r = permutation_importance(BEST_FITTED_MODEL, X=X_train, y=y_train,\n",
    "                           n_repeats=30,\n",
    "                           random_state=SEED,\n",
    "                           scoring='accuracy')\n",
    "\n",
    "for i in r.importances_mean.argsort()[::-1]:\n",
    "    if r.importances_mean[i] - 2 * r.importances_std[i] > 0:\n",
    "        print(f\"{fs.get_feature_names_out()[i]:<8}\"\n",
    "              f\"{r.importances_mean[i]:.3f}\"\n",
    "              f\" +/- {r.importances_std[i]:.3f}\")"
   ]
  },
  {
   "cell_type": "code",
   "execution_count": null,
   "metadata": {},
   "outputs": [
    {
     "data": {
      "text/plain": [
       "<sklearn.metrics._plot.confusion_matrix.ConfusionMatrixDisplay at 0x1d93bd7d610>"
      ]
     },
     "execution_count": 170,
     "metadata": {},
     "output_type": "execute_result"
    },
    {
     "data": {
      "image/png": "[encoded data removed]",
      "text/plain": [
       "<Figure size 640x480 with 2 Axes>"
      ]
     },
     "metadata": {},
     "output_type": "display_data"
    }
   ],
   "source": [
    "from sklearn.metrics import confusion_matrix, ConfusionMatrixDisplay\n",
    "\n",
    "predictions = BEST_FITTED_MODEL.predict(X_test)\n",
    "conf_mat  = confusion_matrix(y_true=y_test, y_pred=predictions)\n",
    "\n",
    "ConfusionMatrixDisplay(confusion_matrix=conf_mat).plot()"
   ]
  },
  {
   "cell_type": "markdown",
   "metadata": {},
   "source": [
    "#### SAVE MODEL\n",
    "---"
   ]
  },
  {
   "cell_type": "code",
   "execution_count": null,
   "metadata": {},
   "outputs": [],
   "source": [
    "save_model(fitted_model=BEST_FITTED_MODEL, filepath='acme_best_model.jb')"
   ]
  }
 ],
 "metadata": {
  "kernelspec": {
   "display_name": "base",
   "language": "python",
   "name": "python3"
  },
  "language_info": {
   "codemirror_mode": {
    "name": "ipython",
    "version": 3
   },
   "file_extension": ".py",
   "mimetype": "text/x-python",
   "name": "python",
   "nbconvert_exporter": "python",
   "pygments_lexer": "ipython3",
   "version": "3.11.4"
  },
  "orig_nbformat": 4
 },
 "nbformat": 4,
 "nbformat_minor": 2
}
